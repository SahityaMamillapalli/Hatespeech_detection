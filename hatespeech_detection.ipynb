{
 "cells": [
  {
   "cell_type": "markdown",
   "id": "13a2f692",
   "metadata": {},
   "source": [
    "Importing Significant Libraries"
   ]
  },
  {
   "cell_type": "code",
   "execution_count": 1,
   "id": "baa49519",
   "metadata": {},
   "outputs": [],
   "source": [
    "import nltk\n",
    "import re\n",
    "import seaborn as sns\n",
    "import pandas as pandas\n",
    "import string\n",
    "from matplotlib import pyplot as plt\n",
    "from nltk.corpus import stopwords\n",
    "from wordcloud import WordCloud as word_cloud\n",
    "from wordcloud import STOPWORDS as stop_words\n",
    "from sklearn.feature_extraction.text import TfidfVectorizer as Tf\n",
    "from sklearn.model_selection import train_test_split\n",
    "from sklearn.linear_model import LogisticRegression\n",
    "from sklearn.metrics import classification_report\n",
    "from sklearn.metrics import accuracy_score as accuracy\n",
    "from sklearn.tree import DecisionTreeClassifier\n",
    "from sklearn.ensemble import RandomForestClassifier\n",
    "from sklearn.svm import SVC\n",
    "from sklearn.neighbors import KNeighborsClassifier\n",
    "from sklearn.ensemble import AdaBoostClassifier\n",
    "from sklearn.ensemble import GradientBoostingClassifier\n",
    "import warnings\n",
    "warnings.filterwarnings('ignore')"
   ]
  },
  {
   "cell_type": "markdown",
   "id": "f17c4346",
   "metadata": {},
   "source": [
    "Data Reading"
   ]
  },
  {
   "cell_type": "code",
   "execution_count": 2,
   "id": "ab82bb42",
   "metadata": {},
   "outputs": [
    {
     "data": {
      "text/html": [
       "<div>\n",
       "<style scoped>\n",
       "    .dataframe tbody tr th:only-of-type {\n",
       "        vertical-align: middle;\n",
       "    }\n",
       "\n",
       "    .dataframe tbody tr th {\n",
       "        vertical-align: top;\n",
       "    }\n",
       "\n",
       "    .dataframe thead th {\n",
       "        text-align: right;\n",
       "    }\n",
       "</style>\n",
       "<table border=\"1\" class=\"dataframe\">\n",
       "  <thead>\n",
       "    <tr style=\"text-align: right;\">\n",
       "      <th></th>\n",
       "      <th>Unnamed: 0</th>\n",
       "      <th>count</th>\n",
       "      <th>hate_speech</th>\n",
       "      <th>offensive_language</th>\n",
       "      <th>neither</th>\n",
       "      <th>class</th>\n",
       "      <th>tweet</th>\n",
       "    </tr>\n",
       "  </thead>\n",
       "  <tbody>\n",
       "    <tr>\n",
       "      <th>0</th>\n",
       "      <td>0</td>\n",
       "      <td>3</td>\n",
       "      <td>0</td>\n",
       "      <td>0</td>\n",
       "      <td>3</td>\n",
       "      <td>2</td>\n",
       "      <td>!!! RT @mayasolovely: As a woman you shouldn't...</td>\n",
       "    </tr>\n",
       "    <tr>\n",
       "      <th>1</th>\n",
       "      <td>1</td>\n",
       "      <td>3</td>\n",
       "      <td>0</td>\n",
       "      <td>3</td>\n",
       "      <td>0</td>\n",
       "      <td>1</td>\n",
       "      <td>!!!!! RT @mleew17: boy dats cold...tyga dwn ba...</td>\n",
       "    </tr>\n",
       "    <tr>\n",
       "      <th>2</th>\n",
       "      <td>2</td>\n",
       "      <td>3</td>\n",
       "      <td>0</td>\n",
       "      <td>3</td>\n",
       "      <td>0</td>\n",
       "      <td>1</td>\n",
       "      <td>!!!!!!! RT @UrKindOfBrand Dawg!!!! RT @80sbaby...</td>\n",
       "    </tr>\n",
       "    <tr>\n",
       "      <th>3</th>\n",
       "      <td>3</td>\n",
       "      <td>3</td>\n",
       "      <td>0</td>\n",
       "      <td>2</td>\n",
       "      <td>1</td>\n",
       "      <td>1</td>\n",
       "      <td>!!!!!!!!! RT @C_G_Anderson: @viva_based she lo...</td>\n",
       "    </tr>\n",
       "    <tr>\n",
       "      <th>4</th>\n",
       "      <td>4</td>\n",
       "      <td>6</td>\n",
       "      <td>0</td>\n",
       "      <td>6</td>\n",
       "      <td>0</td>\n",
       "      <td>1</td>\n",
       "      <td>!!!!!!!!!!!!! RT @ShenikaRoberts: The shit you...</td>\n",
       "    </tr>\n",
       "    <tr>\n",
       "      <th>...</th>\n",
       "      <td>...</td>\n",
       "      <td>...</td>\n",
       "      <td>...</td>\n",
       "      <td>...</td>\n",
       "      <td>...</td>\n",
       "      <td>...</td>\n",
       "      <td>...</td>\n",
       "    </tr>\n",
       "    <tr>\n",
       "      <th>24778</th>\n",
       "      <td>25291</td>\n",
       "      <td>3</td>\n",
       "      <td>0</td>\n",
       "      <td>2</td>\n",
       "      <td>1</td>\n",
       "      <td>1</td>\n",
       "      <td>you's a muthaf***in lie &amp;#8220;@LifeAsKing: @2...</td>\n",
       "    </tr>\n",
       "    <tr>\n",
       "      <th>24779</th>\n",
       "      <td>25292</td>\n",
       "      <td>3</td>\n",
       "      <td>0</td>\n",
       "      <td>1</td>\n",
       "      <td>2</td>\n",
       "      <td>2</td>\n",
       "      <td>you've gone and broke the wrong heart baby, an...</td>\n",
       "    </tr>\n",
       "    <tr>\n",
       "      <th>24780</th>\n",
       "      <td>25294</td>\n",
       "      <td>3</td>\n",
       "      <td>0</td>\n",
       "      <td>3</td>\n",
       "      <td>0</td>\n",
       "      <td>1</td>\n",
       "      <td>young buck wanna eat!!.. dat nigguh like I ain...</td>\n",
       "    </tr>\n",
       "    <tr>\n",
       "      <th>24781</th>\n",
       "      <td>25295</td>\n",
       "      <td>6</td>\n",
       "      <td>0</td>\n",
       "      <td>6</td>\n",
       "      <td>0</td>\n",
       "      <td>1</td>\n",
       "      <td>youu got wild bitches tellin you lies</td>\n",
       "    </tr>\n",
       "    <tr>\n",
       "      <th>24782</th>\n",
       "      <td>25296</td>\n",
       "      <td>3</td>\n",
       "      <td>0</td>\n",
       "      <td>0</td>\n",
       "      <td>3</td>\n",
       "      <td>2</td>\n",
       "      <td>~~Ruffled | Ntac Eileen Dahlia - Beautiful col...</td>\n",
       "    </tr>\n",
       "  </tbody>\n",
       "</table>\n",
       "<p>24783 rows × 7 columns</p>\n",
       "</div>"
      ],
      "text/plain": [
       "       Unnamed: 0  count  hate_speech  offensive_language  neither  class  \\\n",
       "0               0      3            0                   0        3      2   \n",
       "1               1      3            0                   3        0      1   \n",
       "2               2      3            0                   3        0      1   \n",
       "3               3      3            0                   2        1      1   \n",
       "4               4      6            0                   6        0      1   \n",
       "...           ...    ...          ...                 ...      ...    ...   \n",
       "24778       25291      3            0                   2        1      1   \n",
       "24779       25292      3            0                   1        2      2   \n",
       "24780       25294      3            0                   3        0      1   \n",
       "24781       25295      6            0                   6        0      1   \n",
       "24782       25296      3            0                   0        3      2   \n",
       "\n",
       "                                                   tweet  \n",
       "0      !!! RT @mayasolovely: As a woman you shouldn't...  \n",
       "1      !!!!! RT @mleew17: boy dats cold...tyga dwn ba...  \n",
       "2      !!!!!!! RT @UrKindOfBrand Dawg!!!! RT @80sbaby...  \n",
       "3      !!!!!!!!! RT @C_G_Anderson: @viva_based she lo...  \n",
       "4      !!!!!!!!!!!!! RT @ShenikaRoberts: The shit you...  \n",
       "...                                                  ...  \n",
       "24778  you's a muthaf***in lie &#8220;@LifeAsKing: @2...  \n",
       "24779  you've gone and broke the wrong heart baby, an...  \n",
       "24780  young buck wanna eat!!.. dat nigguh like I ain...  \n",
       "24781              youu got wild bitches tellin you lies  \n",
       "24782  ~~Ruffled | Ntac Eileen Dahlia - Beautiful col...  \n",
       "\n",
       "[24783 rows x 7 columns]"
      ]
     },
     "execution_count": 2,
     "metadata": {},
     "output_type": "execute_result"
    }
   ],
   "source": [
    "hatespeech_dataset = pandas.read_csv(\"C://Users//Dell//Desktop//hatespeech//labeled_data.csv\")\n",
    "hatespeech_dataset"
   ]
  },
  {
   "cell_type": "code",
   "execution_count": 3,
   "id": "c8412341",
   "metadata": {},
   "outputs": [
    {
     "data": {
      "text/plain": [
       "(24783, 7)"
      ]
     },
     "execution_count": 3,
     "metadata": {},
     "output_type": "execute_result"
    }
   ],
   "source": [
    "hatespeech_dataset.shape"
   ]
  },
  {
   "cell_type": "code",
   "execution_count": 4,
   "id": "1d68eb41",
   "metadata": {},
   "outputs": [
    {
     "data": {
      "text/plain": [
       "array([2, 1, 0], dtype=int64)"
      ]
     },
     "execution_count": 4,
     "metadata": {},
     "output_type": "execute_result"
    }
   ],
   "source": [
    "hatespeech_dataset['class'].unique()"
   ]
  },
  {
   "cell_type": "markdown",
   "id": "a8c4a2f1",
   "metadata": {},
   "source": [
    "Checking Null Values"
   ]
  },
  {
   "cell_type": "code",
   "execution_count": 5,
   "id": "aff59858",
   "metadata": {},
   "outputs": [
    {
     "data": {
      "text/plain": [
       "Unnamed: 0            0\n",
       "count                 0\n",
       "hate_speech           0\n",
       "offensive_language    0\n",
       "neither               0\n",
       "class                 0\n",
       "tweet                 0\n",
       "dtype: int64"
      ]
     },
     "execution_count": 5,
     "metadata": {},
     "output_type": "execute_result"
    }
   ],
   "source": [
    "hatespeech_dataset.isnull().sum()"
   ]
  },
  {
   "cell_type": "markdown",
   "id": "f4e4b963",
   "metadata": {},
   "source": [
    "Droping unnecesary columns"
   ]
  },
  {
   "cell_type": "code",
   "execution_count": 6,
   "id": "a3b528b7",
   "metadata": {},
   "outputs": [],
   "source": [
    "unnecessary_columns = ['Unnamed: 0','count','hate_speech','offensive_language','neither']\n",
    "boolean_value = True\n",
    "hatespeech_dataset.drop(unnecessary_columns,axis=1,inplace=boolean_value)"
   ]
  },
  {
   "cell_type": "markdown",
   "id": "c6ab28ce",
   "metadata": {},
   "source": [
    "Checking the data wheather it is in balanced format or not"
   ]
  },
  {
   "cell_type": "code",
   "execution_count": 7,
   "id": "39c32109",
   "metadata": {},
   "outputs": [
    {
     "data": {
      "text/plain": [
       "<AxesSubplot:xlabel='class', ylabel='count'>"
      ]
     },
     "execution_count": 7,
     "metadata": {},
     "output_type": "execute_result"
    },
    {
     "data": {
      "image/png": "[encoded data removed]",
      "text/plain": [
       "<Figure size 432x288 with 1 Axes>"
      ]
     },
     "metadata": {
      "needs_background": "light"
     },
     "output_type": "display_data"
    }
   ],
   "source": [
    "sns.countplot('class',data = hatespeech_dataset)"
   ]
  },
  {
   "cell_type": "markdown",
   "id": "279aeec2",
   "metadata": {},
   "source": [
    "Applying the oversampling to data"
   ]
  },
  {
   "cell_type": "code",
   "execution_count": 8,
   "id": "9cb3f0c0",
   "metadata": {},
   "outputs": [],
   "source": [
    "data_class_1 = hatespeech_dataset[hatespeech_dataset['class'] == 1]\n",
    "data_class_2 = hatespeech_dataset[hatespeech_dataset['class'] == 2]\n",
    "data_class_0 = hatespeech_dataset[hatespeech_dataset['class'] == 0]"
   ]
  },
  {
   "cell_type": "code",
   "execution_count": 9,
   "id": "8638e0ce",
   "metadata": {},
   "outputs": [
    {
     "data": {
      "text/plain": [
       "((19190, 2), (4163, 2), (1430, 2))"
      ]
     },
     "execution_count": 9,
     "metadata": {},
     "output_type": "execute_result"
    }
   ],
   "source": [
    "data_class_1.shape , data_class_2.shape , data_class_0.shape"
   ]
  },
  {
   "cell_type": "code",
   "execution_count": 10,
   "id": "6f07d012",
   "metadata": {},
   "outputs": [
    {
     "data": {
      "text/plain": [
       "19190"
      ]
     },
     "execution_count": 10,
     "metadata": {},
     "output_type": "execute_result"
    }
   ],
   "source": [
    "data_class_1.shape[0]"
   ]
  },
  {
   "cell_type": "code",
   "execution_count": 11,
   "id": "e005720b",
   "metadata": {},
   "outputs": [],
   "source": [
    "data_class_2_over = data_class_2.sample(data_class_1.shape[0],replace=boolean_value)\n",
    "data_class_0_over = data_class_0.sample(data_class_1.shape[0],replace=boolean_value)"
   ]
  },
  {
   "cell_type": "code",
   "execution_count": 12,
   "id": "1d69f1bf",
   "metadata": {},
   "outputs": [
    {
     "data": {
      "text/plain": [
       "0    19190\n",
       "1    19190\n",
       "2    19190\n",
       "Name: class, dtype: int64"
      ]
     },
     "execution_count": 12,
     "metadata": {},
     "output_type": "execute_result"
    }
   ],
   "source": [
    "balanced_data = pandas.concat([data_class_2_over,data_class_0_over,data_class_1],axis=0)\n",
    "balanced_data['class'].value_counts()"
   ]
  },
  {
   "cell_type": "markdown",
   "id": "87e6482f",
   "metadata": {},
   "source": [
    "Again checking the data whether it is in balanced format or not after applying the oversampling technique"
   ]
  },
  {
   "cell_type": "code",
   "execution_count": 13,
   "id": "3d5fef04",
   "metadata": {},
   "outputs": [
    {
     "data": {
      "text/plain": [
       "<AxesSubplot:xlabel='class', ylabel='count'>"
      ]
     },
     "execution_count": 13,
     "metadata": {},
     "output_type": "execute_result"
    },
    {
     "data": {
      "image/png": "[encoded data removed]",
      "text/plain": [
       "<Figure size 432x288 with 1 Axes>"
      ]
     },
     "metadata": {
      "needs_background": "light"
     },
     "output_type": "display_data"
    }
   ],
   "source": [
    "sns.countplot('class',data = balanced_data)"
   ]
  },
  {
   "cell_type": "markdown",
   "id": "c4266e94",
   "metadata": {},
   "source": [
    "Checking the tweet column data how it looks like"
   ]
  },
  {
   "cell_type": "code",
   "execution_count": 14,
   "id": "7b5688d0",
   "metadata": {},
   "outputs": [
    {
     "data": {
      "text/plain": [
       "0    !!! RT @mayasolovely: As a woman you shouldn't...\n",
       "0    !!! RT @mayasolovely: As a woman you shouldn't...\n",
       "0    !!! RT @mayasolovely: As a woman you shouldn't...\n",
       "0    !!! RT @mayasolovely: As a woman you shouldn't...\n",
       "0    !!! RT @mayasolovely: As a woman you shouldn't...\n",
       "Name: tweet, dtype: object"
      ]
     },
     "execution_count": 14,
     "metadata": {},
     "output_type": "execute_result"
    }
   ],
   "source": [
    "balanced_data['tweet'][0]\n"
   ]
  },
  {
   "cell_type": "code",
   "execution_count": 15,
   "id": "d1dcac3a",
   "metadata": {},
   "outputs": [
    {
     "data": {
      "text/plain": [
       "'!!!!!!!!!!!!!!!!!!\"@T_Madison_x: The shit just blows me..claim you so faithful and down for somebody but still fucking with hoes! &#128514;&#128514;&#128514;\"'"
      ]
     },
     "execution_count": 15,
     "metadata": {},
     "output_type": "execute_result"
    }
   ],
   "source": [
    "balanced_data['tweet'][5]"
   ]
  },
  {
   "cell_type": "markdown",
   "id": "41cebac3",
   "metadata": {},
   "source": [
    "Cleaning the data using regular expressions"
   ]
  },
  {
   "cell_type": "code",
   "execution_count": 23,
   "id": "b1b1b8eb",
   "metadata": {},
   "outputs": [],
   "source": [
    "stemmer = nltk.SnowballStemmer(language = \"english\")\n",
    "stopword = set(stopwords.words('english'))\n",
    "\n",
    "def tweet_clean(data):\n",
    "    data = str(data).lower()\n",
    "    data = re.sub('\\[.*?\\]', '', data)\n",
    "    data = re.sub('https?://\\S+|www\\.\\S+', '', data)\n",
    "    data = re.sub('<.*?>+', '', data)\n",
    "    data = re.sub('[%s]' % re.escape(string.punctuation), '', data)\n",
    "    data = re.sub('\\w*\\d\\w*', '', data)\n",
    "    data = re.sub('\\n', '', data)\n",
    "    data = [word for word in data.split(' ') if word not in stopword]\n",
    "    data=\" \".join(data)\n",
    "    data = [stemmer.stem(word) for word in data.split(' ')]\n",
    "    data =\" \".join(data)\n",
    "    \n",
    "    return data"
   ]
  },
  {
   "cell_type": "code",
   "execution_count": 24,
   "id": "7c6db884",
   "metadata": {},
   "outputs": [],
   "source": [
    "balanced_data['tweet'] = balanced_data['tweet'].apply(tweet_clean)"
   ]
  },
  {
   "cell_type": "markdown",
   "id": "e8eb5a2c",
   "metadata": {},
   "source": [
    "Displaying the text using the world cloud"
   ]
  },
  {
   "cell_type": "code",
   "execution_count": 25,
   "id": "d7e745d8",
   "metadata": {},
   "outputs": [
    {
     "name": "stdout",
     "output_type": "stream",
     "text": [
      "<wordcloud.wordcloud.WordCloud object at 0x00000241570C96D0>\n"
     ]
    },
    {
     "data": {
      "image/png": "[encoded data removed]",
      "text/plain": [
       "<Figure size 432x288 with 1 Axes>"
      ]
     },
     "metadata": {
      "needs_background": "light"
     },
     "output_type": "display_data"
    }
   ],
   "source": [
    "stopwords = set(stop_words)\n",
    "stopwords.add(\"RT\")\n",
    "\n",
    "value = None\n",
    "\n",
    "def color_function(word=value, font_size=value, position=value,  orientation=value, font_path=value, random_state=value):\n",
    "    h = 344\n",
    "    s = int(100.0 * 255.0 / 255.0)\n",
    "    l = int(100.0 * float(random_state.randint(60, 120)) / 255.0)\n",
    "    return \"hsl({}, {}%, {}%)\".format(h, s, l)\n",
    "\n",
    "wordcloud = word_cloud(\n",
    "                          background_color='black',\n",
    "                          stopwords=stopwords,\n",
    "                          max_words=1100,\n",
    "                          max_font_size=60, \n",
    "                          random_state=10\n",
    "                         ).generate(str(balanced_data.loc[balanced_data[\"class\"]==1].tweet))\n",
    "print(wordcloud)\n",
    "fig = plt.figure(20)\n",
    "plt.imshow(wordcloud.recolor(color_func= color_function, random_state=1),\n",
    "           interpolation=\"bilinear\")\n",
    "plt.axis('off')\n",
    "plt.show()"
   ]
  },
  {
   "cell_type": "code",
   "execution_count": null,
   "id": "9694e547",
   "metadata": {},
   "outputs": [],
   "source": []
  },
  {
   "cell_type": "code",
   "execution_count": 26,
   "id": "0734a52f",
   "metadata": {},
   "outputs": [
    {
     "name": "stdout",
     "output_type": "stream",
     "text": [
      "<wordcloud.wordcloud.WordCloud object at 0x00000241570ABF40>\n"
     ]
    },
    {
     "data": {
      "image/png": "[encoded data removed]",
      "text/plain": [
       "<Figure size 432x288 with 1 Axes>"
      ]
     },
     "metadata": {
      "needs_background": "light"
     },
     "output_type": "display_data"
    }
   ],
   "source": [
    "def color_function(word=value, font_size=value, position=value,  orientation=value, font_path=value, random_state=value):\n",
    "    h = 344\n",
    "    s = int(100.0 * 255.0 / 255.0)\n",
    "    l = int(100.0 * float(random_state.randint(60, 120)) / 255.0)\n",
    "    return \"hsl({}, {}%, {}%)\".format(h, s, l)\n",
    "\n",
    "wordcloud = word_cloud(\n",
    "                          background_color='black',\n",
    "                          stopwords=stopwords,\n",
    "                          max_words=1100,\n",
    "                          max_font_size=60, \n",
    "                          random_state=10\n",
    "                         ).generate(str(balanced_data.loc[balanced_data[\"class\"]==0].tweet))\n",
    "print(wordcloud)\n",
    "fig = plt.figure(20)\n",
    "plt.imshow(wordcloud.recolor(color_func= color_function, random_state=1),\n",
    "           interpolation=\"bilinear\")\n",
    "plt.axis('off')\n",
    "plt.show()"
   ]
  },
  {
   "cell_type": "code",
   "execution_count": null,
   "id": "58fe075f",
   "metadata": {},
   "outputs": [],
   "source": []
  },
  {
   "cell_type": "code",
   "execution_count": 27,
   "id": "21f7900c",
   "metadata": {},
   "outputs": [
    {
     "name": "stdout",
     "output_type": "stream",
     "text": [
      "<wordcloud.wordcloud.WordCloud object at 0x000002415D32D250>\n"
     ]
    },
    {
     "data": {
      "image/png": "[encoded data removed]",
      "text/plain": [
       "<Figure size 432x288 with 1 Axes>"
      ]
     },
     "metadata": {
      "needs_background": "light"
     },
     "output_type": "display_data"
    }
   ],
   "source": [
    "def color_function(word=value, font_size=value, position=value,  orientation=value, font_path=value, random_state=value):\n",
    "    h = 344\n",
    "    s = int(100.0 * 255.0 / 255.0)\n",
    "    l = int(100.0 * float(random_state.randint(60, 120)) / 255.0)\n",
    "    return \"hsl({}, {}%, {}%)\".format(h, s, l)\n",
    "\n",
    "wordcloud = word_cloud(\n",
    "                          background_color='black',\n",
    "                          stopwords=stopwords,\n",
    "                          max_words=1100,\n",
    "                          max_font_size=60, \n",
    "                          random_state=10\n",
    "                         ).generate(str(balanced_data.loc[balanced_data[\"class\"]==2].tweet))\n",
    "print(wordcloud)\n",
    "fig = plt.figure(20)\n",
    "plt.imshow(wordcloud.recolor(color_func= color_function, random_state=1),\n",
    "           interpolation=\"bilinear\")\n",
    "plt.axis('off')\n",
    "plt.show()"
   ]
  },
  {
   "cell_type": "code",
   "execution_count": null,
   "id": "ed659c62",
   "metadata": {},
   "outputs": [],
   "source": []
  },
  {
   "cell_type": "markdown",
   "id": "30a62ef2",
   "metadata": {},
   "source": [
    "Assigning the data to input varible and target variable"
   ]
  },
  {
   "cell_type": "code",
   "execution_count": 28,
   "id": "a06dd89d",
   "metadata": {},
   "outputs": [],
   "source": [
    "x = balanced_data['tweet']\n",
    "y = balanced_data['class']"
   ]
  },
  {
   "cell_type": "code",
   "execution_count": 29,
   "id": "59fe66bc",
   "metadata": {},
   "outputs": [
    {
     "data": {
      "text/plain": [
       "<57570x10000 sparse matrix of type '<class 'numpy.float64'>'\n",
       "\twith 544295 stored elements in Compressed Sparse Row format>"
      ]
     },
     "execution_count": 29,
     "metadata": {},
     "output_type": "execute_result"
    }
   ],
   "source": [
    "from sklearn.feature_extraction.text import TfidfVectorizer as Tf\n",
    "from sklearn.model_selection import train_test_split\n",
    "obj = Tf(ngram_range=(1, 2),max_df=0.75, min_df=5, max_features=10000)\n",
    "tfvect = obj.fit_transform(x)\n",
    "tfvect"
   ]
  },
  {
   "cell_type": "code",
   "execution_count": 30,
   "id": "f69e2c51",
   "metadata": {},
   "outputs": [
    {
     "data": {
      "text/plain": [
       "(57570, 10000)"
      ]
     },
     "execution_count": 30,
     "metadata": {},
     "output_type": "execute_result"
    }
   ],
   "source": [
    "tfvect.shape"
   ]
  },
  {
   "cell_type": "code",
   "execution_count": 31,
   "id": "fa01971c",
   "metadata": {},
   "outputs": [
    {
     "data": {
      "text/plain": [
       "array([0., 0., 0., ..., 0., 0., 0.])"
      ]
     },
     "execution_count": 31,
     "metadata": {},
     "output_type": "execute_result"
    }
   ],
   "source": [
    "tfvect.toarray()[0]"
   ]
  },
  {
   "cell_type": "code",
   "execution_count": 32,
   "id": "cf89cfe1",
   "metadata": {},
   "outputs": [],
   "source": [
    "X = tfvect\n",
    "y = balanced_data['class']\n",
    "X_train_tf, X_test_tf, y_train, y_test = train_test_split(X, y, random_state=10, test_size=0.2)"
   ]
  },
  {
   "cell_type": "code",
   "execution_count": 33,
   "id": "aadc0d90",
   "metadata": {},
   "outputs": [
    {
     "data": {
      "text/plain": [
       "array([[0., 0., 0., ..., 0., 0., 0.],\n",
       "       [0., 0., 0., ..., 0., 0., 0.],\n",
       "       [0., 0., 0., ..., 0., 0., 0.],\n",
       "       ...,\n",
       "       [0., 0., 0., ..., 0., 0., 0.],\n",
       "       [0., 0., 0., ..., 0., 0., 0.],\n",
       "       [0., 0., 0., ..., 0., 0., 0.]])"
      ]
     },
     "execution_count": 33,
     "metadata": {},
     "output_type": "execute_result"
    }
   ],
   "source": [
    "X_train_tf.toarray()"
   ]
  },
  {
   "cell_type": "code",
   "execution_count": 34,
   "id": "0e00bccd",
   "metadata": {},
   "outputs": [
    {
     "data": {
      "text/plain": [
       "array([[0., 0., 0., ..., 0., 0., 0.],\n",
       "       [0., 0., 0., ..., 0., 0., 0.],\n",
       "       [0., 0., 0., ..., 0., 0., 0.],\n",
       "       ...,\n",
       "       [0., 0., 0., ..., 0., 0., 0.],\n",
       "       [0., 0., 0., ..., 0., 0., 0.],\n",
       "       [0., 0., 0., ..., 0., 0., 0.]])"
      ]
     },
     "execution_count": 34,
     "metadata": {},
     "output_type": "execute_result"
    }
   ],
   "source": [
    "X_test_tf.toarray()"
   ]
  },
  {
   "cell_type": "code",
   "execution_count": null,
   "id": "2b845cb8",
   "metadata": {},
   "outputs": [],
   "source": []
  },
  {
   "cell_type": "markdown",
   "id": "d5c537c4",
   "metadata": {},
   "source": [
    "# Logistic Regression"
   ]
  },
  {
   "cell_type": "code",
   "execution_count": 35,
   "id": "7f27b2b2",
   "metadata": {},
   "outputs": [
    {
     "name": "stdout",
     "output_type": "stream",
     "text": [
      "              precision    recall  f1-score   support\n",
      "\n",
      "           0       0.92      0.97      0.95      3859\n",
      "           1       0.97      0.88      0.92      3851\n",
      "           2       0.94      0.98      0.96      3804\n",
      "\n",
      "    accuracy                           0.94     11514\n",
      "   macro avg       0.95      0.94      0.94     11514\n",
      "weighted avg       0.95      0.94      0.94     11514\n",
      "\n",
      "Logistic Regression, Accuracy Score: 0.9441549418099705\n"
     ]
    }
   ],
   "source": [
    "logistic = LogisticRegression(max_iter=1000).fit(X_train_tf,y_train)\n",
    "log_pred = logistic.predict(X_test_tf)\n",
    "report = classification_report( y_test, log_pred )\n",
    "print(report)\n",
    "log_acc = accuracy(y_test,log_pred)\n",
    "print(\"Logistic Regression, Accuracy Score:\" , log_acc)"
   ]
  },
  {
   "cell_type": "markdown",
   "id": "0d981f52",
   "metadata": {},
   "source": [
    "# Decision Trees"
   ]
  },
  {
   "cell_type": "code",
   "execution_count": 36,
   "id": "76caedc6",
   "metadata": {},
   "outputs": [
    {
     "name": "stdout",
     "output_type": "stream",
     "text": [
      "              precision    recall  f1-score   support\n",
      "\n",
      "           0       0.95      1.00      0.97      3859\n",
      "           1       1.00      0.91      0.95      3851\n",
      "           2       0.96      1.00      0.98      3804\n",
      "\n",
      "    accuracy                           0.97     11514\n",
      "   macro avg       0.97      0.97      0.97     11514\n",
      "weighted avg       0.97      0.97      0.97     11514\n",
      "\n",
      "Decision Trees, Accuracy Score: 0.9673441028313358\n"
     ]
    }
   ],
   "source": [
    "deci_tree = DecisionTreeClassifier().fit(X_train_tf,y_train)\n",
    "dec_pred = deci_tree.predict(X_test_tf)\n",
    "report = classification_report( y_test, dec_pred)\n",
    "print(report)\n",
    "dec_acc=accuracy(y_test,dec_pred)\n",
    "print(\"Decision Trees, Accuracy Score:\" , dec_acc)"
   ]
  },
  {
   "cell_type": "code",
   "execution_count": null,
   "id": "aea6fbdb",
   "metadata": {},
   "outputs": [],
   "source": []
  },
  {
   "cell_type": "markdown",
   "id": "48153901",
   "metadata": {},
   "source": [
    "# Random Forest"
   ]
  },
  {
   "cell_type": "code",
   "execution_count": 37,
   "id": "694e8fb5",
   "metadata": {
    "scrolled": true
   },
   "outputs": [
    {
     "name": "stdout",
     "output_type": "stream",
     "text": [
      "              precision    recall  f1-score   support\n",
      "\n",
      "           0       0.98      1.00      0.99      3859\n",
      "           1       1.00      0.94      0.97      3851\n",
      "           2       0.96      1.00      0.98      3804\n",
      "\n",
      "    accuracy                           0.98     11514\n",
      "   macro avg       0.98      0.98      0.98     11514\n",
      "weighted avg       0.98      0.98      0.98     11514\n",
      "\n",
      "Random Forest, Accuracy Score: 0.9782873024144519\n"
     ]
    }
   ],
   "source": [
    "random_forest = RandomForestClassifier().fit(X_train_tf,y_train)\n",
    "rand_pred = random_forest.predict(X_test_tf)\n",
    "report = classification_report( y_test, rand_pred)\n",
    "print(report)\n",
    "rand_acc=accuracy(y_test,rand_pred)\n",
    "print(\"Random Forest, Accuracy Score:\" , rand_acc)"
   ]
  },
  {
   "cell_type": "markdown",
   "id": "76114c07",
   "metadata": {},
   "source": [
    "# Support Vector Machines"
   ]
  },
  {
   "cell_type": "code",
   "execution_count": 38,
   "id": "5ce6532f",
   "metadata": {},
   "outputs": [
    {
     "name": "stdout",
     "output_type": "stream",
     "text": [
      "              precision    recall  f1-score   support\n",
      "\n",
      "           0       0.98      1.00      0.99      3859\n",
      "           1       0.99      0.94      0.97      3851\n",
      "           2       0.96      0.99      0.98      3804\n",
      "\n",
      "    accuracy                           0.98     11514\n",
      "   macro avg       0.98      0.98      0.98     11514\n",
      "weighted avg       0.98      0.98      0.98     11514\n",
      "\n",
      "Support Vector Machine, Accuracy Score: 0.9779398992530832\n"
     ]
    }
   ],
   "source": [
    "svc = SVC(kernel='rbf').fit(X_train_tf,y_train)\n",
    "svc_pred = svc.predict(X_test_tf)\n",
    "report = classification_report( y_test, svc_pred )\n",
    "print(report)\n",
    "acc=accuracy(y_test,svc_pred)\n",
    "print(\"Support Vector Machine, Accuracy Score:\" , acc)"
   ]
  },
  {
   "cell_type": "code",
   "execution_count": null,
   "id": "003f3853",
   "metadata": {},
   "outputs": [],
   "source": []
  },
  {
   "cell_type": "markdown",
   "id": "941000cd",
   "metadata": {},
   "source": [
    "# Knearest neighbour classifier"
   ]
  },
  {
   "cell_type": "code",
   "execution_count": 39,
   "id": "c3142e81",
   "metadata": {},
   "outputs": [
    {
     "name": "stdout",
     "output_type": "stream",
     "text": [
      "              precision    recall  f1-score   support\n",
      "\n",
      "           0       0.83      1.00      0.91      3859\n",
      "           1       0.96      0.42      0.58      3851\n",
      "           2       0.71      0.97      0.82      3804\n",
      "\n",
      "    accuracy                           0.79     11514\n",
      "   macro avg       0.83      0.79      0.77     11514\n",
      "weighted avg       0.83      0.79      0.77     11514\n",
      "\n",
      "k nearest neighbour classifier, Accuracy Score: 0.7942504776793469\n"
     ]
    }
   ],
   "source": [
    "knn = KNeighborsClassifier().fit(X_train_tf,y_train)\n",
    "knn_pred = knn.predict(X_test_tf)\n",
    "report = classification_report( y_test, knn_pred)\n",
    "print(report)\n",
    "knn_acc=accuracy(y_test,knn_pred)\n",
    "print(\"k nearest neighbour classifier, Accuracy Score:\" , knn_acc)"
   ]
  },
  {
   "cell_type": "code",
   "execution_count": null,
   "id": "475015df",
   "metadata": {},
   "outputs": [],
   "source": []
  },
  {
   "cell_type": "markdown",
   "id": "0805440a",
   "metadata": {},
   "source": [
    "# Ada Boost Classifier"
   ]
  },
  {
   "cell_type": "code",
   "execution_count": 40,
   "id": "9656bd60",
   "metadata": {},
   "outputs": [
    {
     "name": "stdout",
     "output_type": "stream",
     "text": [
      "              precision    recall  f1-score   support\n",
      "\n",
      "           0       0.84      0.69      0.76      3859\n",
      "           1       0.82      0.83      0.83      3851\n",
      "           2       0.81      0.95      0.88      3804\n",
      "\n",
      "    accuracy                           0.82     11514\n",
      "   macro avg       0.82      0.82      0.82     11514\n",
      "weighted avg       0.82      0.82      0.82     11514\n",
      "\n",
      "Ada Boost classifier, Accuracy Score: 0.822303282959875\n"
     ]
    }
   ],
   "source": [
    "ada_boost = AdaBoostClassifier().fit(X_train_tf,y_train)\n",
    "boost_pred = ada_boost.predict(X_test_tf)\n",
    "report = classification_report( y_test, boost_pred)\n",
    "print(report)\n",
    "ada_acc=accuracy(y_test,boost_pred)\n",
    "print(\"Ada Boost classifier, Accuracy Score:\" , ada_acc)"
   ]
  },
  {
   "cell_type": "markdown",
   "id": "69f32369",
   "metadata": {},
   "source": [
    "# Gradient Boosting classifier"
   ]
  },
  {
   "cell_type": "code",
   "execution_count": 41,
   "id": "452850a2",
   "metadata": {},
   "outputs": [
    {
     "name": "stdout",
     "output_type": "stream",
     "text": [
      "              precision    recall  f1-score   support\n",
      "\n",
      "           0       0.87      0.76      0.81      3859\n",
      "           1       0.86      0.83      0.85      3851\n",
      "           2       0.83      0.97      0.90      3804\n",
      "\n",
      "    accuracy                           0.85     11514\n",
      "   macro avg       0.86      0.85      0.85     11514\n",
      "weighted avg       0.86      0.85      0.85     11514\n",
      "\n",
      "Gradient Boosting classifier, Accuracy Score: 0.8536564182734063\n"
     ]
    }
   ],
   "source": [
    "grad = GradientBoostingClassifier().fit(X_train_tf,y_train)\n",
    "grad_pred = grad.predict(X_test_tf)\n",
    "report = classification_report( y_test, grad_pred)\n",
    "print(report)\n",
    "grad_acc = accuracy(y_test,grad_pred)\n",
    "print(\"Gradient Boosting classifier, Accuracy Score:\" , grad_acc)"
   ]
  },
  {
   "cell_type": "code",
   "execution_count": null,
   "id": "cf07e7db",
   "metadata": {},
   "outputs": [],
   "source": []
  },
  {
   "cell_type": "code",
   "execution_count": null,
   "id": "2ee49ee5",
   "metadata": {},
   "outputs": [],
   "source": []
  },
  {
   "cell_type": "code",
   "execution_count": null,
   "id": "40cf56af",
   "metadata": {},
   "outputs": [],
   "source": []
  }
 ],
 "metadata": {
  "kernelspec": {
   "display_name": "Python 3",
   "language": "python",
   "name": "python3"
  },
  "language_info": {
   "codemirror_mode": {
    "name": "ipython",
    "version": 3
   },
   "file_extension": ".py",
   "mimetype": "text/x-python",
   "name": "python",
   "nbconvert_exporter": "python",
   "pygments_lexer": "ipython3",
   "version": "3.8.8"
  }
 },
 "nbformat": 4,
 "nbformat_minor": 5
}
